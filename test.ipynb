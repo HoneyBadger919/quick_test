{
 "cells": [
  {
   "cell_type": "code",
   "execution_count": 7,
   "id": "a68d6e32-214b-4a08-9de2-d4f6c90fe7a9",
   "metadata": {},
   "outputs": [],
   "source": [
    "import tensorflow as tf\n",
    "import numpy as np\n",
    "import time"
   ]
  },
  {
   "cell_type": "code",
   "execution_count": 3,
   "id": "729535cb",
   "metadata": {},
   "outputs": [
    {
     "data": {
      "text/plain": [
       "[PhysicalDevice(name='/physical_device:CPU:0', device_type='CPU')]"
      ]
     },
     "execution_count": 3,
     "metadata": {},
     "output_type": "execute_result"
    }
   ],
   "source": [
    "tf.config.list_physical_devices()"
   ]
  },
  {
   "cell_type": "code",
   "execution_count": null,
   "id": "ada60978",
   "metadata": {},
   "outputs": [],
   "source": [
    "display(tf.config.experimental.get_device_details(tf.config.list_physical_devices()[1]))\n",
    "display(tf.config.experimental.get_device_details(tf.config.list_physical_devices()[2]))"
   ]
  },
  {
   "cell_type": "code",
   "execution_count": 14,
   "id": "7e16d9d4-7a1e-4ceb-a5d2-3569c1c26906",
   "metadata": {},
   "outputs": [],
   "source": [
    "# generate random data\n",
    "\n",
    "# first computation z1 = W1x1 + b1\n",
    "x1 = tf.random.uniform(\n",
    "    shape = (9000,1),\n",
    "    maxval=500\n",
    ")\n",
    "\n",
    "w1 = tf.random.uniform(\n",
    "    shape = (40000,9000),\n",
    "    maxval=200\n",
    ")\n",
    "\n",
    "b1 = tf.random.uniform(\n",
    "    shape = (40000,1),\n",
    "    maxval=50\n",
    ")\n",
    "\n",
    "# second computation z2 = W2x2 + b2\n",
    "x2 = tf.random.uniform(\n",
    "    shape = (9000,1),\n",
    "    minval=1000,\n",
    "    maxval=1200\n",
    ")\n",
    "\n",
    "w2 = tf.random.uniform(\n",
    "    shape = (40000,9000),\n",
    "    maxval=400\n",
    ")\n",
    "\n",
    "b2 = tf.random.uniform(\n",
    "    shape = (40000,1),\n",
    "    maxval=75\n",
    ")"
   ]
  },
  {
   "cell_type": "code",
   "execution_count": 15,
   "id": "732dbe58-4505-479a-89eb-a55f35482047",
   "metadata": {},
   "outputs": [
    {
     "data": {
      "text/plain": [
       "0.5716547966003418"
      ]
     },
     "execution_count": 15,
     "metadata": {},
     "output_type": "execute_result"
    }
   ],
   "source": [
    "# CPU COMPUTATION \n",
    "start = time.time()\n",
    "z1 = tf.matmul(w1,x1) + b1\n",
    "a1 = 1 / (1+tf.exp(-z1))\n",
    "z2 = tf.matmul(w2,x2) + b2\n",
    "a2 = 1 / (1+tf.exp(-z2))\n",
    "end = time.time()\n",
    "\n",
    "comp_time_cpu = end - start\n",
    "comp_time_cpu"
   ]
  },
  {
   "cell_type": "code",
   "execution_count": 16,
   "id": "8139ee04",
   "metadata": {},
   "outputs": [],
   "source": [
    "# SINGLE GPU COMPUTATION\n",
    "start = time.time()\n",
    "with tf.device('GPU:0'):\n",
    "    z1 = tf.matmul(w1,x1) + b1\n",
    "    a1 = 1 / (1+tf.exp(-z1))\n",
    "    z2 = tf.matmul(w2,x2) + b2\n",
    "    a2 = 1 / (1+tf.exp(-z2))\n",
    "end = time.time()\n",
    "\n",
    "comp_time_gpu = end - start\n",
    "comp_time_gpu"
   ]
  },
  {
   "cell_type": "code",
   "execution_count": null,
   "id": "27bd6711",
   "metadata": {},
   "outputs": [],
   "source": [
    "# 2 GPUS COMPUTATION\n",
    "start = time.time()\n",
    "with tf.device('GPU:0'):\n",
    "    z1 = tf.matmul(w1,x1) + b1\n",
    "    a1 = 1 / (1+tf.exp(-z1))\n",
    "with tf.device('GPU:1'):\n",
    "    z2 = tf.matmul(w2,x2) + b2\n",
    "    a2 = 1 / (1+tf.exp(-z2))\n",
    "end = time.time()\n",
    "\n",
    "comp_time_gpu2 = end - start\n",
    "comp_time_gpu2"
   ]
  }
 ],
 "metadata": {
  "kernelspec": {
   "display_name": "dev",
   "language": "python",
   "name": "dev"
  },
  "language_info": {
   "codemirror_mode": {
    "name": "ipython",
    "version": 3
   },
   "file_extension": ".py",
   "mimetype": "text/x-python",
   "name": "python",
   "nbconvert_exporter": "python",
   "pygments_lexer": "ipython3",
   "version": "3.7.11"
  }
 },
 "nbformat": 4,
 "nbformat_minor": 5
}
